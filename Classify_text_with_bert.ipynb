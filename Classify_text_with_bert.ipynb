{
  "nbformat": 4,
  "nbformat_minor": 0,
  "metadata": {
    "colab": {
      "name": "Classify_text_with_bert.ipynb",
      "provenance": [],
      "collapsed_sections": [],
      "include_colab_link": true
    },
    "kernelspec": {
      "display_name": "Python 3",
      "name": "python3"
    },
    "accelerator": "GPU"
  },
  "cells": [
    {
      "cell_type": "markdown",
      "metadata": {
        "id": "view-in-github",
        "colab_type": "text"
      },
      "source": [
        "<a href=\"https://colab.research.google.com/github/pps121/100-Days-Of-ML-Code/blob/master/Classify_text_with_bert.ipynb\" target=\"_parent\"><img src=\"https://colab.research.google.com/assets/colab-badge.svg\" alt=\"Open In Colab\"/></a>"
      ]
    },
    {
      "cell_type": "markdown",
      "metadata": {
        "id": "Cb4espuLKJiA"
      },
      "source": [
        "##### Copyright 2020 The TensorFlow Hub Authors.\n"
      ]
    },
    {
      "cell_type": "code",
      "metadata": {
        "cellView": "form",
        "id": "jM3hCI1UUzar"
      },
      "source": [
        "#@title Licensed under the Apache License, Version 2.0 (the \"License\");\n",
        "# you may not use this file except in compliance with the License.\n",
        "# You may obtain a copy of the License at\n",
        "#\n",
        "# https://www.apache.org/licenses/LICENSE-2.0\n",
        "#\n",
        "# Unless required by applicable law or agreed to in writing, software\n",
        "# distributed under the License is distributed on an \"AS IS\" BASIS,\n",
        "# WITHOUT WARRANTIES OR CONDITIONS OF ANY KIND, either express or implied.\n",
        "# See the License for the specific language governing permissions and\n",
        "# limitations under the License."
      ],
      "execution_count": null,
      "outputs": []
    },
    {
      "cell_type": "markdown",
      "metadata": {
        "id": "4_NEJlxKKjyI"
      },
      "source": [
        "<table class=\"tfo-notebook-buttons\" align=\"left\">\n",
        "  <td>\n",
        "    <a target=\"_blank\" href=\"https://www.tensorflow.org/text/tutorials/classify_text_with_bert\"><img src=\"https://www.tensorflow.org/images/tf_logo_32px.png\" />View on TensorFlow.org</a>\n",
        "  </td>\n",
        "  <td>\n",
        "    <a target=\"_blank\" href=\"https://colab.research.google.com/github/tensorflow/text/blob/master/docs/tutorials/classify_text_with_bert.ipynb\"><img src=\"https://www.tensorflow.org/images/colab_logo_32px.png\" />Run in Google Colab</a>\n",
        "  </td>\n",
        "  <td>\n",
        "    <a target=\"_blank\" href=\"https://github.com/tensorflow/text/blob/master/docs/tutorials/classify_text_with_bert.ipynb\"><img src=\"https://www.tensorflow.org/images/GitHub-Mark-32px.png\" />View on GitHub</a>\n",
        "  </td>\n",
        "  <td>\n",
        "    <a href=\"https://storage.googleapis.com/tensorflow_docs/text/docs/tutorials/classify_text_with_bert.ipynb\"><img src=\"https://www.tensorflow.org/images/download_logo_32px.png\" />Download notebook</a>\n",
        "  </td>\n",
        "  <td>\n",
        "    <a href=\"https://tfhub.dev/google/collections/bert/1\"><img src=\"https://www.tensorflow.org/images/hub_logo_32px.png\" />See TF Hub model</a>\n",
        "  </td>\n",
        "</table>"
      ]
    },
    {
      "cell_type": "markdown",
      "metadata": {
        "id": "IZ6SNYq_tVVC"
      },
      "source": [
        "# Classify text with BERT\n",
        "\n",
        "This tutorial contains complete code to fine-tune BERT to perform sentiment analysis on a dataset of plain-text IMDB movie reviews.\n",
        "In addition to training a model, you will learn how to preprocess text into an appropriate format.\n",
        "\n",
        "In this notebook, you will:\n",
        "\n",
        "- Load the IMDB dataset\n",
        "- Load a BERT model from TensorFlow Hub\n",
        "- Build your own model by combining BERT with a classifier\n",
        "- Train your own model, fine-tuning BERT as part of that\n",
        "- Save your model and use it to classify sentences\n",
        "\n",
        "If you're new to working with the IMDB dataset, please see [Basic text classification](https://www.tensorflow.org/tutorials/keras/text_classification) for more details."
      ]
    },
    {
      "cell_type": "markdown",
      "metadata": {
        "id": "2PHBpLPuQdmK"
      },
      "source": [
        "## About BERT\n",
        "\n",
        "[BERT](https://arxiv.org/abs/1810.04805) and other Transformer encoder architectures have been wildly successful on a variety of tasks in NLP (natural language processing). They compute vector-space representations of natural language that are suitable for use in deep learning models. The BERT family of models uses the Transformer encoder architecture to process each token of input text in the full context of all tokens before and after, hence the name: Bidirectional Encoder Representations from Transformers. \n",
        "\n",
        "BERT models are usually pre-trained on a large corpus of text, then fine-tuned for specific tasks.\n"
      ]
    },
    {
      "cell_type": "markdown",
      "metadata": {
        "id": "SCjmX4zTCkRK"
      },
      "source": [
        "## Setup\n"
      ]
    },
    {
      "cell_type": "markdown",
      "metadata": {
        "id": "rbeobv2NIhxn"
      },
      "source": [
        "#TensorFlow Text\n",
        "\"TensorFlow Text provides a collection of text related classes and ops ready to use with TensorFlow 2.0. The library can perform the preprocessing regularly required by text-based models, and includes other features useful for sequence modeling not provided by core TensorFlow\" (https://www.tensorflow.org/text/guide/tf_text_intro)\n"
      ]
    },
    {
      "cell_type": "code",
      "metadata": {
        "id": "q-YbjCkzw0yU",
        "colab": {
          "base_uri": "https://localhost:8080/"
        },
        "outputId": "9c76fb53-b69c-4d20-f754-e82c95bbb437"
      },
      "source": [
        "# A dependency of the preprocessing for BERT inputs\n",
        "!pip install -q -U tensorflow-text"
      ],
      "execution_count": null,
      "outputs": [
        {
          "output_type": "stream",
          "text": [
            "\u001b[K     |████████████████████████████████| 4.4 MB 5.3 MB/s \n",
            "\u001b[?25h"
          ],
          "name": "stdout"
        }
      ]
    },
    {
      "cell_type": "markdown",
      "metadata": {
        "id": "5w_XlxN1IsRJ"
      },
      "source": [
        "We will use the AdamW optimizer from [tensorflow/models](https://github.com/tensorflow/models). \"TensorFlow Model Garden is a repository with a number of different implementations of state-of-the-art (SOTA) models and modeling solutions for TensorFlow users.\"\n"
      ]
    },
    {
      "cell_type": "code",
      "metadata": {
        "id": "b-P1ZOA0FkVJ",
        "colab": {
          "base_uri": "https://localhost:8080/"
        },
        "outputId": "eba362d9-246b-49af-b413-e1ff84017a6b"
      },
      "source": [
        "!pip install -q tf-models-official"
      ],
      "execution_count": null,
      "outputs": [
        {
          "output_type": "stream",
          "text": [
            "\u001b[?25l\r\u001b[K     |▏                               | 10 kB 22.1 MB/s eta 0:00:01\r\u001b[K     |▍                               | 20 kB 28.4 MB/s eta 0:00:01\r\u001b[K     |▋                               | 30 kB 26.6 MB/s eta 0:00:01\r\u001b[K     |▊                               | 40 kB 19.5 MB/s eta 0:00:01\r\u001b[K     |█                               | 51 kB 5.7 MB/s eta 0:00:01\r\u001b[K     |█▏                              | 61 kB 6.1 MB/s eta 0:00:01\r\u001b[K     |█▎                              | 71 kB 5.6 MB/s eta 0:00:01\r\u001b[K     |█▌                              | 81 kB 6.3 MB/s eta 0:00:01\r\u001b[K     |█▊                              | 92 kB 6.5 MB/s eta 0:00:01\r\u001b[K     |█▉                              | 102 kB 5.3 MB/s eta 0:00:01\r\u001b[K     |██                              | 112 kB 5.3 MB/s eta 0:00:01\r\u001b[K     |██▎                             | 122 kB 5.3 MB/s eta 0:00:01\r\u001b[K     |██▍                             | 133 kB 5.3 MB/s eta 0:00:01\r\u001b[K     |██▋                             | 143 kB 5.3 MB/s eta 0:00:01\r\u001b[K     |██▉                             | 153 kB 5.3 MB/s eta 0:00:01\r\u001b[K     |███                             | 163 kB 5.3 MB/s eta 0:00:01\r\u001b[K     |███▏                            | 174 kB 5.3 MB/s eta 0:00:01\r\u001b[K     |███▍                            | 184 kB 5.3 MB/s eta 0:00:01\r\u001b[K     |███▌                            | 194 kB 5.3 MB/s eta 0:00:01\r\u001b[K     |███▊                            | 204 kB 5.3 MB/s eta 0:00:01\r\u001b[K     |████                            | 215 kB 5.3 MB/s eta 0:00:01\r\u001b[K     |████                            | 225 kB 5.3 MB/s eta 0:00:01\r\u001b[K     |████▎                           | 235 kB 5.3 MB/s eta 0:00:01\r\u001b[K     |████▌                           | 245 kB 5.3 MB/s eta 0:00:01\r\u001b[K     |████▋                           | 256 kB 5.3 MB/s eta 0:00:01\r\u001b[K     |████▉                           | 266 kB 5.3 MB/s eta 0:00:01\r\u001b[K     |█████                           | 276 kB 5.3 MB/s eta 0:00:01\r\u001b[K     |█████▏                          | 286 kB 5.3 MB/s eta 0:00:01\r\u001b[K     |█████▍                          | 296 kB 5.3 MB/s eta 0:00:01\r\u001b[K     |█████▋                          | 307 kB 5.3 MB/s eta 0:00:01\r\u001b[K     |█████▊                          | 317 kB 5.3 MB/s eta 0:00:01\r\u001b[K     |██████                          | 327 kB 5.3 MB/s eta 0:00:01\r\u001b[K     |██████▏                         | 337 kB 5.3 MB/s eta 0:00:01\r\u001b[K     |██████▎                         | 348 kB 5.3 MB/s eta 0:00:01\r\u001b[K     |██████▌                         | 358 kB 5.3 MB/s eta 0:00:01\r\u001b[K     |██████▊                         | 368 kB 5.3 MB/s eta 0:00:01\r\u001b[K     |██████▉                         | 378 kB 5.3 MB/s eta 0:00:01\r\u001b[K     |███████                         | 389 kB 5.3 MB/s eta 0:00:01\r\u001b[K     |███████▎                        | 399 kB 5.3 MB/s eta 0:00:01\r\u001b[K     |███████▍                        | 409 kB 5.3 MB/s eta 0:00:01\r\u001b[K     |███████▋                        | 419 kB 5.3 MB/s eta 0:00:01\r\u001b[K     |███████▉                        | 430 kB 5.3 MB/s eta 0:00:01\r\u001b[K     |████████                        | 440 kB 5.3 MB/s eta 0:00:01\r\u001b[K     |████████▏                       | 450 kB 5.3 MB/s eta 0:00:01\r\u001b[K     |████████▍                       | 460 kB 5.3 MB/s eta 0:00:01\r\u001b[K     |████████▌                       | 471 kB 5.3 MB/s eta 0:00:01\r\u001b[K     |████████▊                       | 481 kB 5.3 MB/s eta 0:00:01\r\u001b[K     |█████████                       | 491 kB 5.3 MB/s eta 0:00:01\r\u001b[K     |█████████                       | 501 kB 5.3 MB/s eta 0:00:01\r\u001b[K     |█████████▎                      | 512 kB 5.3 MB/s eta 0:00:01\r\u001b[K     |█████████▌                      | 522 kB 5.3 MB/s eta 0:00:01\r\u001b[K     |█████████▋                      | 532 kB 5.3 MB/s eta 0:00:01\r\u001b[K     |█████████▉                      | 542 kB 5.3 MB/s eta 0:00:01\r\u001b[K     |██████████                      | 552 kB 5.3 MB/s eta 0:00:01\r\u001b[K     |██████████▏                     | 563 kB 5.3 MB/s eta 0:00:01\r\u001b[K     |██████████▍                     | 573 kB 5.3 MB/s eta 0:00:01\r\u001b[K     |██████████▋                     | 583 kB 5.3 MB/s eta 0:00:01\r\u001b[K     |██████████▊                     | 593 kB 5.3 MB/s eta 0:00:01\r\u001b[K     |███████████                     | 604 kB 5.3 MB/s eta 0:00:01\r\u001b[K     |███████████▏                    | 614 kB 5.3 MB/s eta 0:00:01\r\u001b[K     |███████████▎                    | 624 kB 5.3 MB/s eta 0:00:01\r\u001b[K     |███████████▌                    | 634 kB 5.3 MB/s eta 0:00:01\r\u001b[K     |███████████▊                    | 645 kB 5.3 MB/s eta 0:00:01\r\u001b[K     |███████████▉                    | 655 kB 5.3 MB/s eta 0:00:01\r\u001b[K     |████████████                    | 665 kB 5.3 MB/s eta 0:00:01\r\u001b[K     |████████████▎                   | 675 kB 5.3 MB/s eta 0:00:01\r\u001b[K     |████████████▍                   | 686 kB 5.3 MB/s eta 0:00:01\r\u001b[K     |████████████▋                   | 696 kB 5.3 MB/s eta 0:00:01\r\u001b[K     |████████████▉                   | 706 kB 5.3 MB/s eta 0:00:01\r\u001b[K     |█████████████                   | 716 kB 5.3 MB/s eta 0:00:01\r\u001b[K     |█████████████▏                  | 727 kB 5.3 MB/s eta 0:00:01\r\u001b[K     |█████████████▍                  | 737 kB 5.3 MB/s eta 0:00:01\r\u001b[K     |█████████████▌                  | 747 kB 5.3 MB/s eta 0:00:01\r\u001b[K     |█████████████▊                  | 757 kB 5.3 MB/s eta 0:00:01\r\u001b[K     |██████████████                  | 768 kB 5.3 MB/s eta 0:00:01\r\u001b[K     |██████████████                  | 778 kB 5.3 MB/s eta 0:00:01\r\u001b[K     |██████████████▎                 | 788 kB 5.3 MB/s eta 0:00:01\r\u001b[K     |██████████████▌                 | 798 kB 5.3 MB/s eta 0:00:01\r\u001b[K     |██████████████▋                 | 808 kB 5.3 MB/s eta 0:00:01\r\u001b[K     |██████████████▉                 | 819 kB 5.3 MB/s eta 0:00:01\r\u001b[K     |███████████████                 | 829 kB 5.3 MB/s eta 0:00:01\r\u001b[K     |███████████████▏                | 839 kB 5.3 MB/s eta 0:00:01\r\u001b[K     |███████████████▍                | 849 kB 5.3 MB/s eta 0:00:01\r\u001b[K     |███████████████▋                | 860 kB 5.3 MB/s eta 0:00:01\r\u001b[K     |███████████████▊                | 870 kB 5.3 MB/s eta 0:00:01\r\u001b[K     |████████████████                | 880 kB 5.3 MB/s eta 0:00:01\r\u001b[K     |████████████████▏               | 890 kB 5.3 MB/s eta 0:00:01\r\u001b[K     |████████████████▎               | 901 kB 5.3 MB/s eta 0:00:01\r\u001b[K     |████████████████▌               | 911 kB 5.3 MB/s eta 0:00:01\r\u001b[K     |████████████████▊               | 921 kB 5.3 MB/s eta 0:00:01\r\u001b[K     |████████████████▉               | 931 kB 5.3 MB/s eta 0:00:01\r\u001b[K     |█████████████████               | 942 kB 5.3 MB/s eta 0:00:01\r\u001b[K     |█████████████████▎              | 952 kB 5.3 MB/s eta 0:00:01\r\u001b[K     |█████████████████▍              | 962 kB 5.3 MB/s eta 0:00:01\r\u001b[K     |█████████████████▋              | 972 kB 5.3 MB/s eta 0:00:01\r\u001b[K     |█████████████████▉              | 983 kB 5.3 MB/s eta 0:00:01\r\u001b[K     |██████████████████              | 993 kB 5.3 MB/s eta 0:00:01\r\u001b[K     |██████████████████▏             | 1.0 MB 5.3 MB/s eta 0:00:01\r\u001b[K     |██████████████████▍             | 1.0 MB 5.3 MB/s eta 0:00:01\r\u001b[K     |██████████████████▋             | 1.0 MB 5.3 MB/s eta 0:00:01\r\u001b[K     |██████████████████▊             | 1.0 MB 5.3 MB/s eta 0:00:01\r\u001b[K     |███████████████████             | 1.0 MB 5.3 MB/s eta 0:00:01\r\u001b[K     |███████████████████▏            | 1.1 MB 5.3 MB/s eta 0:00:01\r\u001b[K     |███████████████████▎            | 1.1 MB 5.3 MB/s eta 0:00:01\r\u001b[K     |███████████████████▌            | 1.1 MB 5.3 MB/s eta 0:00:01\r\u001b[K     |███████████████████▊            | 1.1 MB 5.3 MB/s eta 0:00:01\r\u001b[K     |███████████████████▉            | 1.1 MB 5.3 MB/s eta 0:00:01\r\u001b[K     |████████████████████            | 1.1 MB 5.3 MB/s eta 0:00:01\r\u001b[K     |████████████████████▎           | 1.1 MB 5.3 MB/s eta 0:00:01\r\u001b[K     |████████████████████▍           | 1.1 MB 5.3 MB/s eta 0:00:01\r\u001b[K     |████████████████████▋           | 1.1 MB 5.3 MB/s eta 0:00:01\r\u001b[K     |████████████████████▉           | 1.1 MB 5.3 MB/s eta 0:00:01\r\u001b[K     |█████████████████████           | 1.2 MB 5.3 MB/s eta 0:00:01\r\u001b[K     |█████████████████████▏          | 1.2 MB 5.3 MB/s eta 0:00:01\r\u001b[K     |█████████████████████▍          | 1.2 MB 5.3 MB/s eta 0:00:01\r\u001b[K     |█████████████████████▌          | 1.2 MB 5.3 MB/s eta 0:00:01\r\u001b[K     |█████████████████████▊          | 1.2 MB 5.3 MB/s eta 0:00:01\r\u001b[K     |██████████████████████          | 1.2 MB 5.3 MB/s eta 0:00:01\r\u001b[K     |██████████████████████          | 1.2 MB 5.3 MB/s eta 0:00:01\r\u001b[K     |██████████████████████▎         | 1.2 MB 5.3 MB/s eta 0:00:01\r\u001b[K     |██████████████████████▌         | 1.2 MB 5.3 MB/s eta 0:00:01\r\u001b[K     |██████████████████████▋         | 1.2 MB 5.3 MB/s eta 0:00:01\r\u001b[K     |██████████████████████▉         | 1.3 MB 5.3 MB/s eta 0:00:01\r\u001b[K     |███████████████████████         | 1.3 MB 5.3 MB/s eta 0:00:01\r\u001b[K     |███████████████████████▏        | 1.3 MB 5.3 MB/s eta 0:00:01\r\u001b[K     |███████████████████████▍        | 1.3 MB 5.3 MB/s eta 0:00:01\r\u001b[K     |███████████████████████▋        | 1.3 MB 5.3 MB/s eta 0:00:01\r\u001b[K     |███████████████████████▊        | 1.3 MB 5.3 MB/s eta 0:00:01\r\u001b[K     |████████████████████████        | 1.3 MB 5.3 MB/s eta 0:00:01\r\u001b[K     |████████████████████████▏       | 1.3 MB 5.3 MB/s eta 0:00:01\r\u001b[K     |████████████████████████▎       | 1.3 MB 5.3 MB/s eta 0:00:01\r\u001b[K     |████████████████████████▌       | 1.4 MB 5.3 MB/s eta 0:00:01\r\u001b[K     |████████████████████████▊       | 1.4 MB 5.3 MB/s eta 0:00:01\r\u001b[K     |████████████████████████▉       | 1.4 MB 5.3 MB/s eta 0:00:01\r\u001b[K     |█████████████████████████       | 1.4 MB 5.3 MB/s eta 0:00:01\r\u001b[K     |█████████████████████████▎      | 1.4 MB 5.3 MB/s eta 0:00:01\r\u001b[K     |█████████████████████████▍      | 1.4 MB 5.3 MB/s eta 0:00:01\r\u001b[K     |█████████████████████████▋      | 1.4 MB 5.3 MB/s eta 0:00:01\r\u001b[K     |█████████████████████████▉      | 1.4 MB 5.3 MB/s eta 0:00:01\r\u001b[K     |██████████████████████████      | 1.4 MB 5.3 MB/s eta 0:00:01\r\u001b[K     |██████████████████████████▏     | 1.4 MB 5.3 MB/s eta 0:00:01\r\u001b[K     |██████████████████████████▍     | 1.5 MB 5.3 MB/s eta 0:00:01\r\u001b[K     |██████████████████████████▌     | 1.5 MB 5.3 MB/s eta 0:00:01\r\u001b[K     |██████████████████████████▊     | 1.5 MB 5.3 MB/s eta 0:00:01\r\u001b[K     |███████████████████████████     | 1.5 MB 5.3 MB/s eta 0:00:01\r\u001b[K     |███████████████████████████     | 1.5 MB 5.3 MB/s eta 0:00:01\r\u001b[K     |███████████████████████████▎    | 1.5 MB 5.3 MB/s eta 0:00:01\r\u001b[K     |███████████████████████████▌    | 1.5 MB 5.3 MB/s eta 0:00:01\r\u001b[K     |███████████████████████████▋    | 1.5 MB 5.3 MB/s eta 0:00:01\r\u001b[K     |███████████████████████████▉    | 1.5 MB 5.3 MB/s eta 0:00:01\r\u001b[K     |████████████████████████████    | 1.5 MB 5.3 MB/s eta 0:00:01\r\u001b[K     |████████████████████████████▏   | 1.6 MB 5.3 MB/s eta 0:00:01\r\u001b[K     |████████████████████████████▍   | 1.6 MB 5.3 MB/s eta 0:00:01\r\u001b[K     |████████████████████████████▋   | 1.6 MB 5.3 MB/s eta 0:00:01\r\u001b[K     |████████████████████████████▊   | 1.6 MB 5.3 MB/s eta 0:00:01\r\u001b[K     |█████████████████████████████   | 1.6 MB 5.3 MB/s eta 0:00:01\r\u001b[K     |█████████████████████████████▏  | 1.6 MB 5.3 MB/s eta 0:00:01\r\u001b[K     |█████████████████████████████▎  | 1.6 MB 5.3 MB/s eta 0:00:01\r\u001b[K     |█████████████████████████████▌  | 1.6 MB 5.3 MB/s eta 0:00:01\r\u001b[K     |█████████████████████████████▊  | 1.6 MB 5.3 MB/s eta 0:00:01\r\u001b[K     |█████████████████████████████▉  | 1.6 MB 5.3 MB/s eta 0:00:01\r\u001b[K     |██████████████████████████████  | 1.7 MB 5.3 MB/s eta 0:00:01\r\u001b[K     |██████████████████████████████▎ | 1.7 MB 5.3 MB/s eta 0:00:01\r\u001b[K     |██████████████████████████████▍ | 1.7 MB 5.3 MB/s eta 0:00:01\r\u001b[K     |██████████████████████████████▋ | 1.7 MB 5.3 MB/s eta 0:00:01\r\u001b[K     |██████████████████████████████▉ | 1.7 MB 5.3 MB/s eta 0:00:01\r\u001b[K     |███████████████████████████████ | 1.7 MB 5.3 MB/s eta 0:00:01\r\u001b[K     |███████████████████████████████▏| 1.7 MB 5.3 MB/s eta 0:00:01\r\u001b[K     |███████████████████████████████▍| 1.7 MB 5.3 MB/s eta 0:00:01\r\u001b[K     |███████████████████████████████▌| 1.7 MB 5.3 MB/s eta 0:00:01\r\u001b[K     |███████████████████████████████▊| 1.8 MB 5.3 MB/s eta 0:00:01\r\u001b[K     |████████████████████████████████| 1.8 MB 5.3 MB/s eta 0:00:01\r\u001b[K     |████████████████████████████████| 1.8 MB 5.3 MB/s \n",
            "\u001b[K     |████████████████████████████████| 211 kB 57.8 MB/s \n",
            "\u001b[K     |████████████████████████████████| 90 kB 8.5 MB/s \n",
            "\u001b[K     |████████████████████████████████| 99 kB 10.8 MB/s \n",
            "\u001b[K     |████████████████████████████████| 1.2 MB 29.8 MB/s \n",
            "\u001b[K     |████████████████████████████████| 636 kB 48.8 MB/s \n",
            "\u001b[K     |████████████████████████████████| 1.1 MB 34.2 MB/s \n",
            "\u001b[K     |████████████████████████████████| 43 kB 2.3 MB/s \n",
            "\u001b[K     |████████████████████████████████| 352 kB 45.4 MB/s \n",
            "\u001b[K     |████████████████████████████████| 37.1 MB 43 kB/s \n",
            "\u001b[?25h  Building wheel for py-cpuinfo (setup.py) ... \u001b[?25l\u001b[?25hdone\n",
            "  Building wheel for seqeval (setup.py) ... \u001b[?25l\u001b[?25hdone\n"
          ],
          "name": "stdout"
        }
      ]
    },
    {
      "cell_type": "code",
      "metadata": {
        "colab": {
          "base_uri": "https://localhost:8080/"
        },
        "id": "Jq1ke17Tcgcx",
        "outputId": "64b3100b-958c-418f-8e19-b2fceb9608fe"
      },
      "source": [
        "%tensorflow_version 2.x\n",
        "import tensorflow as tf\n",
        "device_name = tf.test.gpu_device_name()\n",
        "if device_name != '/device:GPU:0':\n",
        "  raise SystemError('GPU device not found')\n",
        "print('Found GPU at: {}'.format(device_name))"
      ],
      "execution_count": null,
      "outputs": [
        {
          "output_type": "stream",
          "text": [
            "Found GPU at: /device:GPU:0\n"
          ],
          "name": "stdout"
        }
      ]
    },
    {
      "cell_type": "code",
      "metadata": {
        "id": "_XgTpm9ZxoN9"
      },
      "source": [
        "import os\n",
        "import shutil\n",
        "\n",
        "import tensorflow_hub as hub # TFHub is a repository of trained machine learning models (https://www.tensorflow.org/hub)\n",
        "import tensorflow_text as text\n",
        "from official.nlp import optimization  # to create AdamW optimizer\n",
        "\n",
        "import matplotlib.pyplot as plt\n",
        "\n",
        "tf.get_logger().setLevel('ERROR')"
      ],
      "execution_count": null,
      "outputs": []
    },
    {
      "cell_type": "markdown",
      "metadata": {
        "id": "q6MugfEgDRpY"
      },
      "source": [
        "## Sentiment analysis\n",
        "\n",
        "This notebook trains a sentiment analysis model to classify movie reviews as *positive* or *negative*, based on the text of the review.\n",
        "\n",
        "You'll use the [Large Movie Review Dataset](https://ai.stanford.edu/~amaas/data/sentiment/) that contains the text of 50,000 movie reviews from the [Internet Movie Database](https://www.imdb.com/)."
      ]
    },
    {
      "cell_type": "markdown",
      "metadata": {
        "id": "vck1-GsuQ2ys"
      },
      "source": [
        "#Keras\n",
        "\"Keras is the high-level API of TensorFlow 2: an approachable, highly-productive interface for solving machine learning problems, with a focus on modern deep learning. It provides essential abstractions and building blocks for developing and shipping machine learning solutions with high iteration velocity\" (https://keras.io/about/). A useful hands-on colab detailing keras abstractions can be found [here](https://jaredwinick.github.io/what_is_tf_keras/). Additional details can be found [here](https://machinelearningmastery.com/tensorflow-tutorial-deep-learning-with-tf-keras/)."
      ]
    },
    {
      "cell_type": "markdown",
      "metadata": {
        "id": "Vnvd4mrtPHHV"
      },
      "source": [
        "### Download the IMDB dataset\n",
        "\n",
        "Let's download and extract the dataset, then explore the directory structure.\n"
      ]
    },
    {
      "cell_type": "code",
      "metadata": {
        "id": "pOdqCMoQDRJL",
        "colab": {
          "base_uri": "https://localhost:8080/"
        },
        "outputId": "1ae2ea30-8245-4988-8062-ca829c9ea8b1"
      },
      "source": [
        "url = 'https://ai.stanford.edu/~amaas/data/sentiment/aclImdb_v1.tar.gz'\n",
        "\n",
        "dataset = tf.keras.utils.get_file('aclImdb_v1.tar.gz', url,\n",
        "                                  untar=True, cache_dir='.',\n",
        "                                  cache_subdir='')\n",
        "\n",
        "dataset_dir = os.path.join(os.path.dirname(dataset), 'aclImdb')\n",
        "print(dataset_dir)\n",
        "\n",
        "!ls ./aclImdb/train\n",
        "\n",
        "train_dir = os.path.join(dataset_dir, 'train')\n",
        "\n",
        "# remove unused folders to make it easier to load the data\n",
        "remove_dir = os.path.join(train_dir, 'unsup')\n",
        "shutil.rmtree(remove_dir)"
      ],
      "execution_count": null,
      "outputs": [
        {
          "output_type": "stream",
          "text": [
            "Downloading data from https://ai.stanford.edu/~amaas/data/sentiment/aclImdb_v1.tar.gz\n",
            "84131840/84125825 [==============================] - 5s 0us/step\n",
            "84140032/84125825 [==============================] - 5s 0us/step\n",
            "./aclImdb\n",
            "labeledBow.feat  pos\tunsupBow.feat  urls_pos.txt\n",
            "neg\t\t unsup\turls_neg.txt   urls_unsup.txt\n"
          ],
          "name": "stdout"
        }
      ]
    },
    {
      "cell_type": "markdown",
      "metadata": {
        "id": "lN9lWCYfPo7b"
      },
      "source": [
        "Next, you will use the `text_dataset_from_directory` utility to create a labeled `tf.data.Dataset`. The `tf.data.Dataset` API supports writing descriptive and efficient input pipelines. Dataset usage follows a common pattern:\n",
        "- Create a source dataset from your input data.\n",
        "- Apply dataset transformations to preprocess the data.\n",
        "- Iterate over the dataset and process the elements.\n",
        "More details can be found [here](https://www.tensorflow.org/api_docs/python/tf/data/Dataset).\n",
        "\n",
        "The IMDB dataset has already been divided into train and test, but it lacks a validation set. Let's create a validation set using an 80:20 split of the training data by using the `validation_split` argument below.\n",
        "\n",
        "Note:  When using the `validation_split` and `subset` arguments, make sure to either specify a random seed, or to pass `shuffle=False`, so that the validation and training splits have no overlap."
      ]
    },
    {
      "cell_type": "markdown",
      "metadata": {
        "id": "IC7rtNp-jBJP"
      },
      "source": [
        "#Prefetching\n",
        "Prefetching overlaps the preprocessing and model execution of a training step. While the model is executing training step s, the input pipeline is reading the data for step s+1. Doing so reduces the step time to the maximum (as opposed to the sum) of the training and the time it takes to extract the data.\n",
        "\n",
        "The tf.data API provides the tf.data.Dataset.prefetch transformation. It can be used to decouple the time when data is produced from the time when data is consumed. In particular, the transformation uses a background thread and an internal buffer to prefetch elements from the input dataset ahead of the time they are requested. The number of elements to prefetch should be equal to (or possibly greater than) the number of batches consumed by a single training step. You could either manually tune this value, or set it to tf.data.AUTOTUNE, which will prompt the tf.data runtime to tune the value dynamically at runtime. [Source](https://www.tensorflow.org/guide/data_performance#prefetching)\n"
      ]
    },
    {
      "cell_type": "code",
      "metadata": {
        "id": "6IwI_2bcIeX8",
        "colab": {
          "base_uri": "https://localhost:8080/"
        },
        "outputId": "43b33435-1b0e-4230-be92-1dd12783f5b8"
      },
      "source": [
        "AUTOTUNE = tf.data.AUTOTUNE\n",
        "batch_size = 32\n",
        "seed = 42\n",
        "\n",
        "raw_train_ds = tf.keras.preprocessing.text_dataset_from_directory(\n",
        "    'aclImdb/train',\n",
        "    batch_size=batch_size,\n",
        "    validation_split=0.2,\n",
        "    subset='training',\n",
        "    seed=seed)\n",
        "\n",
        "class_names = raw_train_ds.class_names\n",
        "print(class_names)\n",
        "train_ds = raw_train_ds.cache().prefetch(buffer_size=AUTOTUNE)\n",
        "\n",
        "val_ds = tf.keras.preprocessing.text_dataset_from_directory(\n",
        "    'aclImdb/train',\n",
        "    batch_size=batch_size,\n",
        "    validation_split=0.2,\n",
        "    subset='validation',\n",
        "    seed=seed)\n",
        "\n",
        "val_ds = val_ds.cache().prefetch(buffer_size=AUTOTUNE)\n",
        "\n",
        "test_ds = tf.keras.preprocessing.text_dataset_from_directory(\n",
        "    'aclImdb/test',\n",
        "    batch_size=batch_size)\n",
        "\n",
        "test_ds = test_ds.cache().prefetch(buffer_size=AUTOTUNE)"
      ],
      "execution_count": null,
      "outputs": [
        {
          "output_type": "stream",
          "text": [
            "Found 25000 files belonging to 2 classes.\n",
            "Using 20000 files for training.\n",
            "['neg', 'pos']\n",
            "Found 25000 files belonging to 2 classes.\n",
            "Using 5000 files for validation.\n",
            "Found 25000 files belonging to 2 classes.\n"
          ],
          "name": "stdout"
        }
      ]
    },
    {
      "cell_type": "markdown",
      "metadata": {
        "id": "HGm10A5HRGXp"
      },
      "source": [
        "Let's take a look at a few reviews."
      ]
    },
    {
      "cell_type": "code",
      "metadata": {
        "id": "JuxDkcvVIoev",
        "colab": {
          "base_uri": "https://localhost:8080/"
        },
        "outputId": "9993d04e-c405-4ce5-91a3-d16e454b58ec"
      },
      "source": [
        "for text_batch, label_batch in train_ds.take(1):\n",
        "  for i in range(3):\n",
        "    print(f'Review: {text_batch.numpy()[i]}')\n",
        "    label = label_batch.numpy()[i]\n",
        "    print(f'Label : {label} ({class_names[label]})')"
      ],
      "execution_count": null,
      "outputs": [
        {
          "output_type": "stream",
          "text": [
            "Review: b'\"Pandemonium\" is a horror movie spoof that comes off more stupid than funny. Believe me when I tell you, I love comedies. Especially comedy spoofs. \"Airplane\", \"The Naked Gun\" trilogy, \"Blazing Saddles\", \"High Anxiety\", and \"Spaceballs\" are some of my favorite comedies that spoof a particular genre. \"Pandemonium\" is not up there with those films. Most of the scenes in this movie had me sitting there in stunned silence because the movie wasn\\'t all that funny. There are a few laughs in the film, but when you watch a comedy, you expect to laugh a lot more than a few times and that\\'s all this film has going for it. Geez, \"Scream\" had more laughs than this film and that was more of a horror film. How bizarre is that?<br /><br />*1/2 (out of four)'\n",
            "Label : 0 (neg)\n",
            "Review: b\"David Mamet is a very interesting and a very un-equal director. His first movie 'House of Games' was the one I liked best, and it set a series of films with characters whose perspective of life changes as they get into complicated situations, and so does the perspective of the viewer.<br /><br />So is 'Homicide' which from the title tries to set the mind of the viewer to the usual crime drama. The principal characters are two cops, one Jewish and one Irish who deal with a racially charged area. The murder of an old Jewish shop owner who proves to be an ancient veteran of the Israeli Independence war triggers the Jewish identity in the mind and heart of the Jewish detective.<br /><br />This is were the flaws of the film are the more obvious. The process of awakening is theatrical and hard to believe, the group of Jewish militants is operatic, and the way the detective eventually walks to the final violent confrontation is pathetic. The end of the film itself is Mamet-like smart, but disappoints from a human emotional perspective.<br /><br />Joe Mantegna and William Macy give strong performances, but the flaws of the story are too evident to be easily compensated.\"\n",
            "Label : 0 (neg)\n",
            "Review: b'Great documentary about the lives of NY firefighters during the worst terrorist attack of all time.. That reason alone is why this should be a must see collectors item.. What shocked me was not only the attacks, but the\"High Fat Diet\" and physical appearance of some of these firefighters. I think a lot of Doctors would agree with me that,in the physical shape they were in, some of these firefighters would NOT of made it to the 79th floor carrying over 60 lbs of gear. Having said that i now have a greater respect for firefighters and i realize becoming a firefighter is a life altering job. The French have a history of making great documentary\\'s and that is what this is, a Great Documentary.....'\n",
            "Label : 1 (pos)\n"
          ],
          "name": "stdout"
        }
      ]
    },
    {
      "cell_type": "markdown",
      "metadata": {
        "id": "dX8FtlpGJRE6"
      },
      "source": [
        "## Loading models from TensorFlow Hub\n",
        "\n",
        "Here you can choose which BERT model you will load from TensorFlow Hub and fine-tune. There are multiple BERT models available.\n",
        "\n",
        "  - [BERT-Base](https://tfhub.dev/tensorflow/bert_en_uncased_L-12_H-768_A-12/3), [Uncased](https://tfhub.dev/tensorflow/bert_en_uncased_L-12_H-768_A-12/3) and [seven more models](https://tfhub.dev/google/collections/bert/1) with trained weights released by the original BERT authors.\n",
        "  - [Small BERTs](https://tfhub.dev/google/collections/bert/1) have the same general architecture but fewer and/or smaller Transformer blocks, which lets you explore tradeoffs between speed, size and quality.\n",
        "  - [ALBERT](https://tfhub.dev/google/collections/albert/1): four different sizes of \"A Lite BERT\" that reduces model size (but not computation time) by sharing parameters between layers.\n",
        "\n",
        "The model documentation on TensorFlow Hub has more details and references to the\n",
        "research literature. Follow the links above, or click on the [`tfhub.dev`](http://tfhub.dev) URL\n",
        "printed after the next cell execution.\n",
        "\n",
        "The suggestion is to start with a Small BERT (with fewer parameters) since they are faster to fine-tune. If you like a small model but with higher accuracy, ALBERT might be your next option. If you want even better accuracy, choose\n",
        "one of the classic BERT sizes or their recent refinements like Electra, Talking Heads, or a BERT Expert.\n",
        "\n",
        "Aside from the models available below, there are [multiple versions](https://tfhub.dev/google/collections/transformer_encoders_text/1) of the models that are larger and can yield even better accuracy, but they are too big to be fine-tuned on a single GPU. You will be able to do that on the [Solve GLUE tasks using BERT on a TPU colab](https://www.tensorflow.org/text/tutorials/bert_glue).\n",
        "\n",
        "You'll see in the code below that switching the tfhub.dev URL is enough to try any of these models, because all the differences between them are encapsulated in the SavedModels from TF Hub."
      ]
    },
    {
      "cell_type": "code",
      "metadata": {
        "id": "y8_ctG55-uTX",
        "cellView": "form",
        "colab": {
          "base_uri": "https://localhost:8080/"
        },
        "outputId": "262ff58f-7c20-41c8-e10f-623cf155808d"
      },
      "source": [
        "#@title Choose a BERT model to fine-tune\n",
        "\n",
        "bert_model_name = \"small_bert/bert_en_uncased_L-4_H-512_A-8\" #@param [\"bert_en_uncased_L-12_H-768_A-12\", \"bert_en_cased_L-12_H-768_A-12\", \"bert_multi_cased_L-12_H-768_A-12\", \"small_bert/bert_en_uncased_L-2_H-128_A-2\", \"small_bert/bert_en_uncased_L-2_H-256_A-4\", \"small_bert/bert_en_uncased_L-2_H-512_A-8\", \"small_bert/bert_en_uncased_L-2_H-768_A-12\", \"small_bert/bert_en_uncased_L-4_H-128_A-2\", \"small_bert/bert_en_uncased_L-4_H-256_A-4\", \"small_bert/bert_en_uncased_L-4_H-512_A-8\", \"small_bert/bert_en_uncased_L-4_H-768_A-12\", \"small_bert/bert_en_uncased_L-6_H-128_A-2\", \"small_bert/bert_en_uncased_L-6_H-256_A-4\", \"small_bert/bert_en_uncased_L-6_H-512_A-8\", \"small_bert/bert_en_uncased_L-6_H-768_A-12\", \"small_bert/bert_en_uncased_L-8_H-128_A-2\", \"small_bert/bert_en_uncased_L-8_H-256_A-4\", \"small_bert/bert_en_uncased_L-8_H-512_A-8\", \"small_bert/bert_en_uncased_L-8_H-768_A-12\", \"small_bert/bert_en_uncased_L-10_H-128_A-2\", \"small_bert/bert_en_uncased_L-10_H-256_A-4\", \"small_bert/bert_en_uncased_L-10_H-512_A-8\", \"small_bert/bert_en_uncased_L-10_H-768_A-12\", \"small_bert/bert_en_uncased_L-12_H-128_A-2\", \"small_bert/bert_en_uncased_L-12_H-256_A-4\", \"small_bert/bert_en_uncased_L-12_H-512_A-8\", \"small_bert/bert_en_uncased_L-12_H-768_A-12\", \"albert_en_base\", \"electra_small\", \"electra_base\", \"experts_pubmed\", \"experts_wiki_books\", \"talking-heads_base\"]\n",
        "\n",
        "map_name_to_handle = {\n",
        "    'bert_en_uncased_L-12_H-768_A-12':\n",
        "        'https://tfhub.dev/tensorflow/bert_en_uncased_L-12_H-768_A-12/3',\n",
        "    'bert_en_cased_L-12_H-768_A-12':\n",
        "        'https://tfhub.dev/tensorflow/bert_en_cased_L-12_H-768_A-12/3',\n",
        "    'bert_multi_cased_L-12_H-768_A-12':\n",
        "        'https://tfhub.dev/tensorflow/bert_multi_cased_L-12_H-768_A-12/3',\n",
        "    'small_bert/bert_en_uncased_L-2_H-128_A-2':\n",
        "        'https://tfhub.dev/tensorflow/small_bert/bert_en_uncased_L-2_H-128_A-2/1',\n",
        "    'small_bert/bert_en_uncased_L-2_H-256_A-4':\n",
        "        'https://tfhub.dev/tensorflow/small_bert/bert_en_uncased_L-2_H-256_A-4/1',\n",
        "    'small_bert/bert_en_uncased_L-2_H-512_A-8':\n",
        "        'https://tfhub.dev/tensorflow/small_bert/bert_en_uncased_L-2_H-512_A-8/1',\n",
        "    'small_bert/bert_en_uncased_L-2_H-768_A-12':\n",
        "        'https://tfhub.dev/tensorflow/small_bert/bert_en_uncased_L-2_H-768_A-12/1',\n",
        "    'small_bert/bert_en_uncased_L-4_H-128_A-2':\n",
        "        'https://tfhub.dev/tensorflow/small_bert/bert_en_uncased_L-4_H-128_A-2/1',\n",
        "    'small_bert/bert_en_uncased_L-4_H-256_A-4':\n",
        "        'https://tfhub.dev/tensorflow/small_bert/bert_en_uncased_L-4_H-256_A-4/1',\n",
        "    'small_bert/bert_en_uncased_L-4_H-512_A-8':\n",
        "        'https://tfhub.dev/tensorflow/small_bert/bert_en_uncased_L-4_H-512_A-8/1',\n",
        "    'small_bert/bert_en_uncased_L-4_H-768_A-12':\n",
        "        'https://tfhub.dev/tensorflow/small_bert/bert_en_uncased_L-4_H-768_A-12/1',\n",
        "    'small_bert/bert_en_uncased_L-6_H-128_A-2':\n",
        "        'https://tfhub.dev/tensorflow/small_bert/bert_en_uncased_L-6_H-128_A-2/1',\n",
        "    'small_bert/bert_en_uncased_L-6_H-256_A-4':\n",
        "        'https://tfhub.dev/tensorflow/small_bert/bert_en_uncased_L-6_H-256_A-4/1',\n",
        "    'small_bert/bert_en_uncased_L-6_H-512_A-8':\n",
        "        'https://tfhub.dev/tensorflow/small_bert/bert_en_uncased_L-6_H-512_A-8/1',\n",
        "    'small_bert/bert_en_uncased_L-6_H-768_A-12':\n",
        "        'https://tfhub.dev/tensorflow/small_bert/bert_en_uncased_L-6_H-768_A-12/1',\n",
        "    'small_bert/bert_en_uncased_L-8_H-128_A-2':\n",
        "        'https://tfhub.dev/tensorflow/small_bert/bert_en_uncased_L-8_H-128_A-2/1',\n",
        "    'small_bert/bert_en_uncased_L-8_H-256_A-4':\n",
        "        'https://tfhub.dev/tensorflow/small_bert/bert_en_uncased_L-8_H-256_A-4/1',\n",
        "    'small_bert/bert_en_uncased_L-8_H-512_A-8':\n",
        "        'https://tfhub.dev/tensorflow/small_bert/bert_en_uncased_L-8_H-512_A-8/1',\n",
        "    'small_bert/bert_en_uncased_L-8_H-768_A-12':\n",
        "        'https://tfhub.dev/tensorflow/small_bert/bert_en_uncased_L-8_H-768_A-12/1',\n",
        "    'small_bert/bert_en_uncased_L-10_H-128_A-2':\n",
        "        'https://tfhub.dev/tensorflow/small_bert/bert_en_uncased_L-10_H-128_A-2/1',\n",
        "    'small_bert/bert_en_uncased_L-10_H-256_A-4':\n",
        "        'https://tfhub.dev/tensorflow/small_bert/bert_en_uncased_L-10_H-256_A-4/1',\n",
        "    'small_bert/bert_en_uncased_L-10_H-512_A-8':\n",
        "        'https://tfhub.dev/tensorflow/small_bert/bert_en_uncased_L-10_H-512_A-8/1',\n",
        "    'small_bert/bert_en_uncased_L-10_H-768_A-12':\n",
        "        'https://tfhub.dev/tensorflow/small_bert/bert_en_uncased_L-10_H-768_A-12/1',\n",
        "    'small_bert/bert_en_uncased_L-12_H-128_A-2':\n",
        "        'https://tfhub.dev/tensorflow/small_bert/bert_en_uncased_L-12_H-128_A-2/1',\n",
        "    'small_bert/bert_en_uncased_L-12_H-256_A-4':\n",
        "        'https://tfhub.dev/tensorflow/small_bert/bert_en_uncased_L-12_H-256_A-4/1',\n",
        "    'small_bert/bert_en_uncased_L-12_H-512_A-8':\n",
        "        'https://tfhub.dev/tensorflow/small_bert/bert_en_uncased_L-12_H-512_A-8/1',\n",
        "    'small_bert/bert_en_uncased_L-12_H-768_A-12':\n",
        "        'https://tfhub.dev/tensorflow/small_bert/bert_en_uncased_L-12_H-768_A-12/1',\n",
        "    'albert_en_base':\n",
        "        'https://tfhub.dev/tensorflow/albert_en_base/2',\n",
        "    'electra_small':\n",
        "        'https://tfhub.dev/google/electra_small/2',\n",
        "    'electra_base':\n",
        "        'https://tfhub.dev/google/electra_base/2',\n",
        "    'experts_pubmed':\n",
        "        'https://tfhub.dev/google/experts/bert/pubmed/2',\n",
        "    'experts_wiki_books':\n",
        "        'https://tfhub.dev/google/experts/bert/wiki_books/2',\n",
        "    'talking-heads_base':\n",
        "        'https://tfhub.dev/tensorflow/talkheads_ggelu_bert_en_base/1',\n",
        "}\n",
        "\n",
        "map_model_to_preprocess = {\n",
        "    'bert_en_uncased_L-12_H-768_A-12':\n",
        "        'https://tfhub.dev/tensorflow/bert_en_uncased_preprocess/3',\n",
        "    'bert_en_cased_L-12_H-768_A-12':\n",
        "        'https://tfhub.dev/tensorflow/bert_en_cased_preprocess/3',\n",
        "    'small_bert/bert_en_uncased_L-2_H-128_A-2':\n",
        "        'https://tfhub.dev/tensorflow/bert_en_uncased_preprocess/3',\n",
        "    'small_bert/bert_en_uncased_L-2_H-256_A-4':\n",
        "        'https://tfhub.dev/tensorflow/bert_en_uncased_preprocess/3',\n",
        "    'small_bert/bert_en_uncased_L-2_H-512_A-8':\n",
        "        'https://tfhub.dev/tensorflow/bert_en_uncased_preprocess/3',\n",
        "    'small_bert/bert_en_uncased_L-2_H-768_A-12':\n",
        "        'https://tfhub.dev/tensorflow/bert_en_uncased_preprocess/3',\n",
        "    'small_bert/bert_en_uncased_L-4_H-128_A-2':\n",
        "        'https://tfhub.dev/tensorflow/bert_en_uncased_preprocess/3',\n",
        "    'small_bert/bert_en_uncased_L-4_H-256_A-4':\n",
        "        'https://tfhub.dev/tensorflow/bert_en_uncased_preprocess/3',\n",
        "    'small_bert/bert_en_uncased_L-4_H-512_A-8':\n",
        "        'https://tfhub.dev/tensorflow/bert_en_uncased_preprocess/3',\n",
        "    'small_bert/bert_en_uncased_L-4_H-768_A-12':\n",
        "        'https://tfhub.dev/tensorflow/bert_en_uncased_preprocess/3',\n",
        "    'small_bert/bert_en_uncased_L-6_H-128_A-2':\n",
        "        'https://tfhub.dev/tensorflow/bert_en_uncased_preprocess/3',\n",
        "    'small_bert/bert_en_uncased_L-6_H-256_A-4':\n",
        "        'https://tfhub.dev/tensorflow/bert_en_uncased_preprocess/3',\n",
        "    'small_bert/bert_en_uncased_L-6_H-512_A-8':\n",
        "        'https://tfhub.dev/tensorflow/bert_en_uncased_preprocess/3',\n",
        "    'small_bert/bert_en_uncased_L-6_H-768_A-12':\n",
        "        'https://tfhub.dev/tensorflow/bert_en_uncased_preprocess/3',\n",
        "    'small_bert/bert_en_uncased_L-8_H-128_A-2':\n",
        "        'https://tfhub.dev/tensorflow/bert_en_uncased_preprocess/3',\n",
        "    'small_bert/bert_en_uncased_L-8_H-256_A-4':\n",
        "        'https://tfhub.dev/tensorflow/bert_en_uncased_preprocess/3',\n",
        "    'small_bert/bert_en_uncased_L-8_H-512_A-8':\n",
        "        'https://tfhub.dev/tensorflow/bert_en_uncased_preprocess/3',\n",
        "    'small_bert/bert_en_uncased_L-8_H-768_A-12':\n",
        "        'https://tfhub.dev/tensorflow/bert_en_uncased_preprocess/3',\n",
        "    'small_bert/bert_en_uncased_L-10_H-128_A-2':\n",
        "        'https://tfhub.dev/tensorflow/bert_en_uncased_preprocess/3',\n",
        "    'small_bert/bert_en_uncased_L-10_H-256_A-4':\n",
        "        'https://tfhub.dev/tensorflow/bert_en_uncased_preprocess/3',\n",
        "    'small_bert/bert_en_uncased_L-10_H-512_A-8':\n",
        "        'https://tfhub.dev/tensorflow/bert_en_uncased_preprocess/3',\n",
        "    'small_bert/bert_en_uncased_L-10_H-768_A-12':\n",
        "        'https://tfhub.dev/tensorflow/bert_en_uncased_preprocess/3',\n",
        "    'small_bert/bert_en_uncased_L-12_H-128_A-2':\n",
        "        'https://tfhub.dev/tensorflow/bert_en_uncased_preprocess/3',\n",
        "    'small_bert/bert_en_uncased_L-12_H-256_A-4':\n",
        "        'https://tfhub.dev/tensorflow/bert_en_uncased_preprocess/3',\n",
        "    'small_bert/bert_en_uncased_L-12_H-512_A-8':\n",
        "        'https://tfhub.dev/tensorflow/bert_en_uncased_preprocess/3',\n",
        "    'small_bert/bert_en_uncased_L-12_H-768_A-12':\n",
        "        'https://tfhub.dev/tensorflow/bert_en_uncased_preprocess/3',\n",
        "    'bert_multi_cased_L-12_H-768_A-12':\n",
        "        'https://tfhub.dev/tensorflow/bert_multi_cased_preprocess/3',\n",
        "    'albert_en_base':\n",
        "        'https://tfhub.dev/tensorflow/albert_en_preprocess/3',\n",
        "    'electra_small':\n",
        "        'https://tfhub.dev/tensorflow/bert_en_uncased_preprocess/3',\n",
        "    'electra_base':\n",
        "        'https://tfhub.dev/tensorflow/bert_en_uncased_preprocess/3',\n",
        "    'experts_pubmed':\n",
        "        'https://tfhub.dev/tensorflow/bert_en_uncased_preprocess/3',\n",
        "    'experts_wiki_books':\n",
        "        'https://tfhub.dev/tensorflow/bert_en_uncased_preprocess/3',\n",
        "    'talking-heads_base':\n",
        "        'https://tfhub.dev/tensorflow/bert_en_uncased_preprocess/3',\n",
        "}\n",
        "\n",
        "tfhub_handle_encoder = map_name_to_handle[bert_model_name]\n",
        "tfhub_handle_preprocess = map_model_to_preprocess[bert_model_name]\n",
        "\n",
        "print(f'BERT model selected           : {tfhub_handle_encoder}')\n",
        "print(f'Preprocess model auto-selected: {tfhub_handle_preprocess}')"
      ],
      "execution_count": null,
      "outputs": [
        {
          "output_type": "stream",
          "text": [
            "BERT model selected           : https://tfhub.dev/tensorflow/small_bert/bert_en_uncased_L-4_H-512_A-8/1\n",
            "Preprocess model auto-selected: https://tfhub.dev/tensorflow/bert_en_uncased_preprocess/3\n"
          ],
          "name": "stdout"
        }
      ]
    },
    {
      "cell_type": "markdown",
      "metadata": {
        "id": "7WrcxxTRDdHi"
      },
      "source": [
        "## The preprocessing model\n",
        "\n",
        "Text inputs need to be transformed to numeric token ids and arranged in several Tensors before being input to BERT. TensorFlow Hub provides a matching preprocessing model for each of the BERT models discussed above, which implements this transformation using TF ops from the TF.text library. It is not necessary to run pure Python code outside your TensorFlow model to preprocess text.\n",
        "\n",
        "The preprocessing model must be the one referenced by the documentation of the BERT model, which you can read at the URL printed above. For BERT models from the drop-down above, the preprocessing model is selected automatically.\n",
        "\n",
        "Note: You will load the preprocessing model into a [hub.KerasLayer](https://www.tensorflow.org/hub/api_docs/python/hub/KerasLayer) to compose your fine-tuned model. More information on Keras layers can be found [here](https://keras.io/api/layers/). \"Layers are the basic building blocks of neural networks in Keras. A layer consists of a tensor-in tensor-out computation function (the layer's call method) and some state, held in TensorFlow variables (the layer's weights).\"\n",
        "\n",
        "[hub.KerasLayer](https://www.tensorflow.org/hub/api_docs/python/hub/KerasLayer) is the preferred API to load a TF2-style [SavedModel](https://www.tensorflow.org/guide/saved_model) from TF Hub into a Keras model."
      ]
    },
    {
      "cell_type": "code",
      "metadata": {
        "id": "0SQi-jWd_jzq"
      },
      "source": [
        "bert_preprocess_model = hub.KerasLayer(tfhub_handle_preprocess)"
      ],
      "execution_count": null,
      "outputs": []
    },
    {
      "cell_type": "markdown",
      "metadata": {
        "id": "x4naBiEE_cZX"
      },
      "source": [
        "Let's try the preprocessing model on some text and see the output:"
      ]
    },
    {
      "cell_type": "code",
      "metadata": {
        "id": "r9-zCzJpnuwS",
        "colab": {
          "base_uri": "https://localhost:8080/"
        },
        "outputId": "50ac66ad-1857-47ec-ad50-2472687c4ce0"
      },
      "source": [
        "text_test = ['this is such an amazing movie!']\n",
        "text_preprocessed = bert_preprocess_model(text_test)\n",
        "\n",
        "print(f'Keys       : {list(text_preprocessed.keys())}')\n",
        "print(f'Shape      : {text_preprocessed[\"input_word_ids\"].shape}')\n",
        "print(f'Word Ids   : {text_preprocessed[\"input_word_ids\"][0, :12]}')\n",
        "print(f'Input Mask : {text_preprocessed[\"input_mask\"][0, :12]}')\n",
        "print(f'Type Ids   : {text_preprocessed[\"input_type_ids\"][0, :12]}')"
      ],
      "execution_count": null,
      "outputs": [
        {
          "output_type": "stream",
          "text": [
            "Keys       : ['input_type_ids', 'input_mask', 'input_word_ids']\n",
            "Shape      : (1, 128)\n",
            "Word Ids   : [ 101 2023 2003 2107 2019 6429 3185  999  102    0    0    0]\n",
            "Input Mask : [1 1 1 1 1 1 1 1 1 0 0 0]\n",
            "Type Ids   : [0 0 0 0 0 0 0 0 0 0 0 0]\n"
          ],
          "name": "stdout"
        }
      ]
    },
    {
      "cell_type": "markdown",
      "metadata": {
        "id": "EqL7ihkN_862"
      },
      "source": [
        "As you can see, now you have the 3 outputs from the preprocessing that a BERT model would use (`input_words_id`, `input_mask` and `input_type_ids`).\n",
        "\n",
        "Some other important points:\n",
        "- The input is truncated to 128 tokens. The number of tokens can be customized, and you can see more details on the [Solve GLUE tasks using BERT on a TPU colab](https://www.tensorflow.org/text/tutorials/bert_glue).\n",
        "- The `input_type_ids` only have one value (0) because this is a single sentence input. For a multiple sentence input, it would have one number for each input.\n",
        "\n",
        "Since this text preprocessor is a TensorFlow model, It can be included in your model directly."
      ]
    },
    {
      "cell_type": "markdown",
      "metadata": {
        "id": "DKnLPSEmtp9i"
      },
      "source": [
        "## Using the BERT model\n",
        "\n",
        "Before putting BERT into your own model, let's take a look at its outputs. You will load it from TF Hub and see the returned values."
      ]
    },
    {
      "cell_type": "code",
      "metadata": {
        "id": "tXxYpK8ixL34"
      },
      "source": [
        "bert_model = hub.KerasLayer(tfhub_handle_encoder)"
      ],
      "execution_count": null,
      "outputs": []
    },
    {
      "cell_type": "code",
      "metadata": {
        "id": "_OoF9mebuSZc",
        "colab": {
          "base_uri": "https://localhost:8080/"
        },
        "outputId": "f48a972b-3052-421b-c01e-d5db95194e14"
      },
      "source": [
        "bert_results = bert_model(text_preprocessed)\n",
        "\n",
        "print(f'Loaded BERT: {tfhub_handle_encoder}')\n",
        "print(f'Pooled Outputs Shape:{bert_results[\"pooled_output\"].shape}')\n",
        "print(f'Pooled Outputs Values:{bert_results[\"pooled_output\"][0, :12]}')\n",
        "print(f'Sequence Outputs Shape:{bert_results[\"sequence_output\"].shape}')\n",
        "print(f'Sequence Outputs Values:{bert_results[\"sequence_output\"][0, :12]}')"
      ],
      "execution_count": null,
      "outputs": [
        {
          "output_type": "stream",
          "text": [
            "Loaded BERT: https://tfhub.dev/tensorflow/small_bert/bert_en_uncased_L-4_H-512_A-8/1\n",
            "Pooled Outputs Shape:(1, 512)\n",
            "Pooled Outputs Values:[ 0.7626282   0.9928099  -0.18611862  0.3667383   0.15233758  0.655044\n",
            "  0.9681154  -0.94862705  0.0021616  -0.9877732   0.06842764 -0.97630596]\n",
            "Sequence Outputs Shape:(1, 128, 512)\n",
            "Sequence Outputs Values:[[-0.28946292  0.34321183  0.33231512 ...  0.21300802  0.7102092\n",
            "  -0.05771042]\n",
            " [-0.28741995  0.31980985 -0.23018652 ...  0.5845511  -0.21329862\n",
            "   0.72692007]\n",
            " [-0.6615692   0.68876815 -0.8743301  ...  0.1087728  -0.26173076\n",
            "   0.47855455]\n",
            " ...\n",
            " [-0.22561137 -0.2892573  -0.07064426 ...  0.47566032  0.8327724\n",
            "   0.40025347]\n",
            " [-0.2982421  -0.27473164 -0.05450544 ...  0.4884972   1.0955367\n",
            "   0.18163365]\n",
            " [-0.4437818   0.00930662  0.07223704 ...  0.17290089  1.1833239\n",
            "   0.07897975]]\n"
          ],
          "name": "stdout"
        }
      ]
    },
    {
      "cell_type": "markdown",
      "metadata": {
        "id": "sm61jDrezAll"
      },
      "source": [
        "The BERT models return a map with 3 important keys: `pooled_output`, `sequence_output`, `encoder_outputs`:\n",
        "\n",
        "- `pooled_output` represents each input sequence as a whole. The shape is `[batch_size, H]`. You can think of this as an embedding for the entire movie review.\n",
        "- `sequence_output` represents each input token in the context. The shape is `[batch_size, seq_length, H]`. You can think of this as a contextual embedding for every token in the movie review.\n",
        "- `encoder_outputs` are the intermediate activations of the `L` Transformer blocks. `outputs[\"encoder_outputs\"][i]` is a Tensor of shape `[batch_size, seq_length, 1024]` with the outputs of the i-th Transformer block, for `0 <= i < L`. The last value of the list is equal to `sequence_output`.\n",
        "\n",
        "For the fine-tuning you are going to use the `pooled_output` array."
      ]
    },
    {
      "cell_type": "markdown",
      "metadata": {
        "id": "pDNKfAXbDnJH"
      },
      "source": [
        "## Define your model\n",
        "\n",
        "You will create a very simple fine-tuned model, with the preprocessing model, the selected BERT model, one Dense and a Dropout layer.\n",
        "\n",
        "Note: for more information about the base model's input and output you can follow the model's URL for documentation. Here specifically, you don't need to worry about it because the preprocessing model will take care of that for you.\n"
      ]
    },
    {
      "cell_type": "code",
      "metadata": {
        "id": "aksj743St9ga"
      },
      "source": [
        "def build_classifier_model():\n",
        "  text_input = tf.keras.layers.Input(shape=(), dtype=tf.string, name='text')\n",
        "  preprocessing_layer = hub.KerasLayer(tfhub_handle_preprocess, name='preprocessing')\n",
        "  encoder_inputs = preprocessing_layer(text_input)\n",
        "  encoder = hub.KerasLayer(tfhub_handle_encoder, trainable=True, name='BERT_encoder')\n",
        "  outputs = encoder(encoder_inputs)\n",
        "  net = outputs['pooled_output']\n",
        "  net = tf.keras.layers.Dropout(0.1)(net)\n",
        "  net = tf.keras.layers.Dense(1, activation=None, name='classifier')(net)\n",
        "  return tf.keras.Model(text_input, net)"
      ],
      "execution_count": null,
      "outputs": []
    },
    {
      "cell_type": "markdown",
      "metadata": {
        "id": "Zs4yhFraBuGQ"
      },
      "source": [
        "Let's check that the model runs with the output of the preprocessing model."
      ]
    },
    {
      "cell_type": "code",
      "metadata": {
        "id": "mGMF8AZcB2Zy",
        "colab": {
          "base_uri": "https://localhost:8080/"
        },
        "outputId": "a111e0b3-026d-4eb9-de34-5a669bc5bbde"
      },
      "source": [
        "classifier_model = build_classifier_model()\n",
        "bert_raw_result = classifier_model(tf.constant(text_test))\n",
        "print(tf.sigmoid(bert_raw_result))"
      ],
      "execution_count": null,
      "outputs": [
        {
          "output_type": "stream",
          "text": [
            "tf.Tensor([[0.5890199]], shape=(1, 1), dtype=float32)\n"
          ],
          "name": "stdout"
        }
      ]
    },
    {
      "cell_type": "markdown",
      "metadata": {
        "id": "ZTUzNV2JE2G3"
      },
      "source": [
        "The output is meaningless, of course, because the model has not been trained yet.\n",
        "\n",
        "Let's take a look at the model's structure."
      ]
    },
    {
      "cell_type": "code",
      "metadata": {
        "id": "0EmzyHZXKIpm",
        "colab": {
          "base_uri": "https://localhost:8080/",
          "height": 466
        },
        "outputId": "8dd0fa29-d6f4-407d-877f-015045c34f25"
      },
      "source": [
        "tf.keras.utils.plot_model(classifier_model)"
      ],
      "execution_count": null,
      "outputs": [
        {
          "output_type": "execute_result",
          "data": {
            "image/png": "[encoded data removed]",
            "text/plain": [
              "<IPython.core.display.Image object>"
            ]
          },
          "metadata": {},
          "execution_count": 15
        }
      ]
    },
    {
      "cell_type": "markdown",
      "metadata": {
        "id": "WbUWoZMwc302"
      },
      "source": [
        "## Model training\n",
        "\n",
        "You now have all the pieces to train a model, including the preprocessing module, BERT encoder, data, and classifier."
      ]
    },
    {
      "cell_type": "markdown",
      "metadata": {
        "id": "WpJ3xcwDT56v"
      },
      "source": [
        "### Loss function\n",
        "\n",
        "Since this is a binary classification problem and the model outputs a probability (a single-unit layer), you'll use `losses.BinaryCrossentropy` loss function. More information on the BinaryCrossentropy loss can be found [here](https://www.tensorflow.org/api_docs/python/tf/keras/losses/BinaryCrossentropy).\n"
      ]
    },
    {
      "cell_type": "code",
      "metadata": {
        "id": "OWPOZE-L3AgE"
      },
      "source": [
        "loss = tf.keras.losses.BinaryCrossentropy(from_logits=True)\n",
        "metrics = tf.metrics.BinaryAccuracy()"
      ],
      "execution_count": null,
      "outputs": []
    },
    {
      "cell_type": "markdown",
      "metadata": {
        "id": "77psrpfzbxtp"
      },
      "source": [
        "### Optimizer\n",
        "\n",
        "For fine-tuning, let's use the same optimizer that BERT was originally trained with: the \"Adaptive Moments\" (Adam). This optimizer minimizes the prediction loss and does regularization by weight decay (not using moments), which is also known as [AdamW](https://arxiv.org/abs/1711.05101).\n",
        "\n",
        "For the learning rate (`init_lr`), you will use the same schedule as BERT pre-training: linear decay of a notional initial learning rate, prefixed with a linear warm-up phase over the first 10% of training steps (`num_warmup_steps`). In line with the BERT paper, the initial learning rate is smaller for fine-tuning (best of 5e-5, 3e-5, 2e-5)."
      ]
    },
    {
      "cell_type": "code",
      "metadata": {
        "id": "P9eP2y9dbw32"
      },
      "source": [
        "epochs = 3\n",
        "steps_per_epoch = tf.data.experimental.cardinality(train_ds).numpy()\n",
        "num_train_steps = steps_per_epoch * epochs\n",
        "num_warmup_steps = int(0.1*num_train_steps)\n",
        "\n",
        "init_lr = 3e-5\n",
        "optimizer = optimization.create_optimizer(init_lr=init_lr,\n",
        "                                          num_train_steps=num_train_steps,\n",
        "                                          num_warmup_steps=num_warmup_steps,\n",
        "                                          optimizer_type='adamw')"
      ],
      "execution_count": null,
      "outputs": []
    },
    {
      "cell_type": "markdown",
      "metadata": {
        "id": "SqlarlpC_v0g"
      },
      "source": [
        "### Loading the BERT model and training\n",
        "\n",
        "Using the `classifier_model` you created earlier, you can compile the model with the loss, metric and optimizer."
      ]
    },
    {
      "cell_type": "code",
      "metadata": {
        "id": "-7GPDhR98jsD"
      },
      "source": [
        "classifier_model.compile(optimizer=optimizer,\n",
        "                         loss=loss,\n",
        "                         metrics=metrics)"
      ],
      "execution_count": null,
      "outputs": []
    },
    {
      "cell_type": "markdown",
      "metadata": {
        "id": "CpBuV5j2cS_b"
      },
      "source": [
        "Note: training time will vary depending on the complexity of the BERT model you have selected."
      ]
    },
    {
      "cell_type": "code",
      "metadata": {
        "id": "HtfDFAnN_Neu",
        "colab": {
          "base_uri": "https://localhost:8080/"
        },
        "outputId": "c45d45b7-5e0f-4b5c-8014-8025514f689d"
      },
      "source": [
        "print(f'Training model with {tfhub_handle_encoder}')\n",
        "history = classifier_model.fit(x=train_ds,\n",
        "                               validation_data=val_ds,\n",
        "                               epochs=epochs)"
      ],
      "execution_count": null,
      "outputs": [
        {
          "output_type": "stream",
          "text": [
            "Training model with https://tfhub.dev/tensorflow/small_bert/bert_en_uncased_L-4_H-512_A-8/1\n",
            "Epoch 1/3\n",
            "625/625 [==============================] - 290s 453ms/step - loss: 0.4603 - binary_accuracy: 0.7601 - val_loss: 0.3787 - val_binary_accuracy: 0.8374\n",
            "Epoch 2/3\n",
            "625/625 [==============================] - 279s 447ms/step - loss: 0.3213 - binary_accuracy: 0.8560 - val_loss: 0.3574 - val_binary_accuracy: 0.8452\n",
            "Epoch 3/3\n",
            "625/625 [==============================] - 280s 448ms/step - loss: 0.2537 - binary_accuracy: 0.8921 - val_loss: 0.3812 - val_binary_accuracy: 0.8478\n"
          ],
          "name": "stdout"
        }
      ]
    },
    {
      "cell_type": "markdown",
      "metadata": {
        "id": "uBthMlTSV8kn"
      },
      "source": [
        "### Evaluate the model\n",
        "\n",
        "Let's see how the model performs. Two values will be returned. Loss (a number which represents the error, lower values are better), and accuracy."
      ]
    },
    {
      "cell_type": "code",
      "metadata": {
        "id": "slqB-urBV9sP",
        "colab": {
          "base_uri": "https://localhost:8080/"
        },
        "outputId": "4459a3ae-bc7c-4460-92c3-b26e7702cad4"
      },
      "source": [
        "loss, accuracy = classifier_model.evaluate(test_ds)\n",
        "\n",
        "print(f'Loss: {loss}')\n",
        "print(f'Accuracy: {accuracy}')"
      ],
      "execution_count": null,
      "outputs": [
        {
          "output_type": "stream",
          "text": [
            "782/782 [==============================] - 152s 195ms/step - loss: 0.3684 - binary_accuracy: 0.8516\n",
            "Loss: 0.3683711290359497\n",
            "Accuracy: 0.8515999913215637\n"
          ],
          "name": "stdout"
        }
      ]
    },
    {
      "cell_type": "markdown",
      "metadata": {
        "id": "uttWpgmSfzq9"
      },
      "source": [
        "### Plot the accuracy and loss over time\n",
        "\n",
        "Based on the `History` object returned by `model.fit()`. You can plot the training and validation loss for comparison, as well as the training and validation accuracy. More information on the History object can be found [here](https://machinelearningmastery.com/display-deep-learning-model-training-history-in-keras/)."
      ]
    },
    {
      "cell_type": "code",
      "metadata": {
        "id": "fiythcODf0xo",
        "colab": {
          "base_uri": "https://localhost:8080/",
          "height": 438
        },
        "outputId": "bda5953b-a431-49b1-f711-c1df34cd4203"
      },
      "source": [
        "history_dict = history.history\n",
        "print(history_dict.keys())\n",
        "\n",
        "acc = history_dict['binary_accuracy']\n",
        "val_acc = history_dict['val_binary_accuracy']\n",
        "loss = history_dict['loss']\n",
        "val_loss = history_dict['val_loss']\n",
        "\n",
        "epochs = range(1, len(acc) + 1)\n",
        "fig = plt.figure(figsize=(10, 6))\n",
        "fig.tight_layout()\n",
        "\n",
        "plt.subplot(2, 1, 1)\n",
        "# \"bo\" is for \"blue dot\"\n",
        "plt.plot(epochs, loss, 'r', label='Training loss')\n",
        "# b is for \"solid blue line\"\n",
        "plt.plot(epochs, val_loss, 'b', label='Validation loss')\n",
        "plt.title('Training and validation loss')\n",
        "# plt.xlabel('Epochs')\n",
        "plt.ylabel('Loss')\n",
        "plt.legend()\n",
        "\n",
        "plt.subplot(2, 1, 2)\n",
        "plt.plot(epochs, acc, 'r', label='Training acc')\n",
        "plt.plot(epochs, val_acc, 'b', label='Validation acc')\n",
        "plt.title('Training and validation accuracy')\n",
        "plt.xlabel('Epochs')\n",
        "plt.ylabel('Accuracy')\n",
        "plt.legend(loc='lower right')"
      ],
      "execution_count": null,
      "outputs": [
        {
          "output_type": "stream",
          "text": [
            "dict_keys(['loss', 'binary_accuracy', 'val_loss', 'val_binary_accuracy'])\n"
          ],
          "name": "stdout"
        },
        {
          "output_type": "execute_result",
          "data": {
            "text/plain": [
              "<matplotlib.legend.Legend at 0x7f5a0805add0>"
            ]
          },
          "metadata": {},
          "execution_count": 22
        },
        {
          "output_type": "display_data",
          "data": {
            "image/png": "[encoded data removed]",
            "text/plain": [
              "<Figure size 720x432 with 2 Axes>"
            ]
          },
          "metadata": {
            "needs_background": "light"
          }
        }
      ]
    },
    {
      "cell_type": "markdown",
      "metadata": {
        "id": "WzJZCo-cf-Jf"
      },
      "source": [
        "In this plot, the red lines represent the training loss and accuracy, and the blue lines are the validation loss and accuracy."
      ]
    },
    {
      "cell_type": "markdown",
      "metadata": {
        "id": "Rtn7jewb6dg4"
      },
      "source": [
        "## Export for inference\n",
        "\n",
        "Now you just save your fine-tuned model for later use."
      ]
    },
    {
      "cell_type": "code",
      "metadata": {
        "id": "ShcvqJAgVera",
        "colab": {
          "base_uri": "https://localhost:8080/"
        },
        "outputId": "9cb66a6f-d57f-47c8-b9c0-a9ad83d9a79f"
      },
      "source": [
        "dataset_name = 'imdb'\n",
        "saved_model_path = './{}_bert'.format(dataset_name.replace('/', '_'))\n",
        "\n",
        "classifier_model.save(saved_model_path, include_optimizer=False)"
      ],
      "execution_count": null,
      "outputs": [
        {
          "output_type": "stream",
          "text": [
            "WARNING:absl:Found untraced functions such as restored_function_body, restored_function_body, restored_function_body, restored_function_body, restored_function_body while saving (showing 5 of 310). These functions will not be directly callable after loading.\n"
          ],
          "name": "stderr"
        }
      ]
    },
    {
      "cell_type": "markdown",
      "metadata": {
        "id": "PbI25bS1vD7s"
      },
      "source": [
        "Let's reload the model, so you can try it side by side with the model that is still in memory."
      ]
    },
    {
      "cell_type": "code",
      "metadata": {
        "id": "gUEWVskZjEF0"
      },
      "source": [
        "reloaded_model = tf.saved_model.load(saved_model_path)"
      ],
      "execution_count": null,
      "outputs": []
    },
    {
      "cell_type": "markdown",
      "metadata": {
        "id": "oyTappHTvNCz"
      },
      "source": [
        "Here you can test your model on any sentence you want, just add to the examples variable below."
      ]
    },
    {
      "cell_type": "code",
      "metadata": {
        "id": "VBWzH6exlCPS",
        "colab": {
          "base_uri": "https://localhost:8080/"
        },
        "outputId": "3b2a2f64-e8ea-4b80-fb25-28641997c6ca"
      },
      "source": [
        "def print_my_examples(inputs, results):\n",
        "  result_for_printing = \\\n",
        "    [f'input: {inputs[i]:<30} : score: {results[i][0]:.6f}'\n",
        "                         for i in range(len(inputs))]\n",
        "  print(*result_for_printing, sep='\\n')\n",
        "  print()\n",
        "\n",
        "\n",
        "examples = [\n",
        "    'this is such an amazing movie!',  # this is the same sentence tried earlier\n",
        "    'The movie was great!',\n",
        "    'The movie was meh.',\n",
        "    'The movie was okish.',\n",
        "    'The movie was terrible...'\n",
        "]\n",
        "\n",
        "reloaded_results = tf.sigmoid(reloaded_model(tf.constant(examples)))\n",
        "original_results = tf.sigmoid(classifier_model(tf.constant(examples)))\n",
        "\n",
        "print('Results from the saved model:')\n",
        "print_my_examples(examples, reloaded_results)\n",
        "print('Results from the model in memory:')\n",
        "print_my_examples(examples, original_results)"
      ],
      "execution_count": null,
      "outputs": [
        {
          "output_type": "stream",
          "text": [
            "Results from the saved model:\n",
            "input: this is such an amazing movie! : score: 0.998838\n",
            "input: The movie was great!           : score: 0.993884\n",
            "input: The movie was meh.             : score: 0.915520\n",
            "input: The movie was okish.           : score: 0.100049\n",
            "input: The movie was terrible...      : score: 0.003937\n",
            "\n",
            "Results from the model in memory:\n",
            "input: this is such an amazing movie! : score: 0.998838\n",
            "input: The movie was great!           : score: 0.993884\n",
            "input: The movie was meh.             : score: 0.915520\n",
            "input: The movie was okish.           : score: 0.100049\n",
            "input: The movie was terrible...      : score: 0.003937\n",
            "\n"
          ],
          "name": "stdout"
        }
      ]
    },
    {
      "cell_type": "code",
      "metadata": {
        "id": "moBT9_FGMgJq"
      },
      "source": [
        ""
      ],
      "execution_count": null,
      "outputs": []
    }
  ]
}